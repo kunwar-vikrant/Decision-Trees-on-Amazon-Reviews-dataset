{
 "cells": [
  {
   "cell_type": "code",
   "execution_count": 1,
   "metadata": {
    "colab": {
     "autoexec": {
      "startup": false,
      "wait_interval": 0
     },
     "base_uri": "https://localhost:8080/",
     "height": 105
    },
    "colab_type": "code",
    "executionInfo": {
     "elapsed": 2552,
     "status": "ok",
     "timestamp": 1530337284718,
     "user": {
      "displayName": "K V",
      "photoUrl": "https://lh3.googleusercontent.com/a/default-user=s128",
      "userId": "115566673853168956239"
     },
     "user_tz": -330
    },
    "id": "XdVNLpuMbNmA",
    "outputId": "dacc3a5c-085e-4ca7-bdaf-8d80e291af22"
   },
   "outputs": [
    {
     "name": "stderr",
     "output_type": "stream",
     "text": [
      "/usr/local/lib/python3.6/dist-packages/sklearn/cross_validation.py:41: DeprecationWarning:\n",
      "\n",
      "This module was deprecated in version 0.18 in favor of the model_selection module into which all the refactored classes and functions are moved. Also note that the interface of the new CV iterators are different from that of this module. This module will be removed in 0.20.\n",
      "\n"
     ]
    }
   ],
   "source": [
    "import sqlite3 \n",
    "import pandas as pd \n",
    "import numpy as np \n",
    "import matplotlib.pyplot as plt\n",
    "import plotly.plotly as py\n",
    "import plotly.graph_objs as go\n",
    "from sklearn.cross_validation import train_test_split\n",
    "from sklearn.neighbors import KNeighborsClassifier\n",
    "from sklearn.metrics import accuracy_score\n",
    "from sklearn.cross_validation import cross_val_score\n",
    "from collections import Counter\n",
    "from sklearn.metrics import accuracy_score\n",
    "from sklearn import cross_validation\n",
    "from sklearn.feature_extraction.text import TfidfTransformer\n",
    "from sklearn.feature_extraction.text import TfidfVectorizer\n",
    "from sklearn.feature_extraction.text import CountVectorizer \n",
    "from sklearn.metrics import confusion_matrix \n",
    "from sklearn import metrics \n",
    "from sklearn.metrics import roc_curve, auc \n",
    "from nltk.stem.porter import PorterStemmer\n",
    "from sklearn.decomposition import TruncatedSVD\n",
    "from sklearn.model_selection import TimeSeriesSplit\n",
    "from sklearn.model_selection import GridSearchCV\n",
    "from sklearn.linear_model import LogisticRegression"
   ]
  },
  {
   "cell_type": "markdown",
   "metadata": {},
   "source": [
    "# Loading the data"
   ]
  },
  {
   "cell_type": "code",
   "execution_count": 0,
   "metadata": {
    "colab": {
     "autoexec": {
      "startup": false,
      "wait_interval": 0
     }
    },
    "colab_type": "code",
    "collapsed": true,
    "id": "StA-wRRTbmmp"
   },
   "outputs": [],
   "source": [
    "final_data = pd.read_csv(\"final.csv\")\n",
    "\n",
    "final_data = final_data.drop([\"Text\"], axis = 1)\n",
    "final_data = final_data.drop(final_data.columns[0], axis = 1)"
   ]
  },
  {
   "cell_type": "markdown",
   "metadata": {},
   "source": [
    "# Sorting and train/test split"
   ]
  },
  {
   "cell_type": "code",
   "execution_count": 0,
   "metadata": {
    "colab": {
     "autoexec": {
      "startup": false,
      "wait_interval": 0
     }
    },
    "colab_type": "code",
    "collapsed": true,
    "id": "94pbKdnbbt-h"
   },
   "outputs": [],
   "source": [
    "labels = final_data.Score\n",
    "final_data = final_data.sort_values(\"Time\")\n",
    "final_data.shape"
   ]
  },
  {
   "cell_type": "code",
   "execution_count": 0,
   "metadata": {
    "colab": {
     "autoexec": {
      "startup": false,
      "wait_interval": 0
     }
    },
    "colab_type": "code",
    "collapsed": true,
    "id": "4YKbIhoebzTN"
   },
   "outputs": [],
   "source": [
    "n = final_data.shape[0]\n",
    "train_size = 0.7\n",
    "\n",
    "train_set = final_data.iloc[:int(n*train_size)]\n",
    "test_set =final_data.iloc[int(n*train_size):]\n",
    "\n",
    "X_train = train_set.CleanedText\n",
    "y_train = train_set.Score\n",
    "\n",
    "X_test = test_set.CleanedText\n",
    "y_test= test_set.Score"
   ]
  },
  {
   "cell_type": "markdown",
   "metadata": {},
   "source": [
    "# Cleaning the data"
   ]
  },
  {
   "cell_type": "code",
   "execution_count": 7,
   "metadata": {
    "colab": {
     "autoexec": {
      "startup": false,
      "wait_interval": 0
     },
     "base_uri": "https://localhost:8080/",
     "height": 122
    },
    "colab_type": "code",
    "executionInfo": {
     "elapsed": 998,
     "status": "ok",
     "timestamp": 1530337328671,
     "user": {
      "displayName": "K V",
      "photoUrl": "https://lh3.googleusercontent.com/a/default-user=s128",
      "userId": "115566673853168956239"
     },
     "user_tz": -330
    },
    "id": "cJHe-y3Gb8cV",
    "outputId": "dffb0de0-9156-4815-8c03-442f2e514056"
   },
   "outputs": [
    {
     "name": "stdout",
     "output_type": "stream",
     "text": [
      "[nltk_data] Downloading package stopwords to /content/nltk_data...\n",
      "[nltk_data]   Package stopwords is already up-to-date!\n",
      "{'am', 'below', 'through', 'mustn', 'mightn', 'itself', \"didn't\", 'm', 'the', 'haven', 'couldn', 'no', 's', 'most', 'me', 'herself', 'did', 'during', \"couldn't\", 'for', 'to', \"won't\", 'until', 'have', 'its', \"doesn't\", 'ourselves', \"she's\", 'theirs', 'aren', 'hadn', 'isn', 'but', 'just', 'at', 'hers', 're', 'weren', 'ours', \"you're\", 'does', 'd', 'his', 'ma', 'myself', 'on', 'has', 'we', 'now', 'a', 'himself', 'after', 'shan', 'once', 'who', 'or', \"shan't\", 'some', 'this', 'off', 'yourself', 'do', 'before', 't', 'as', 'of', 'because', 'will', 'y', 'needn', 've', 'her', 'they', \"shouldn't\", 'with', 'him', 'other', \"it's\", \"isn't\", 'yourselves', 'over', 'them', 'under', 'when', 'too', 'is', 'had', 'above', \"haven't\", 'same', 'our', 'about', 'being', 'didn', 'wouldn', \"aren't\", 'those', 'are', 'while', 'o', \"don't\", 'only', 'what', 'so', 'more', 'own', 'very', 'their', 'from', 'such', 'll', \"mustn't\", \"mightn't\", 'again', 'been', 'all', 'your', 'out', 'here', 'there', 'few', 'and', 'it', 'shouldn', 'by', 'each', 'where', 'between', 'these', 'not', 'was', 'wasn', \"you'd\", 'should', 'whom', \"needn't\", 'both', \"you've\", 'hasn', 'then', 'she', 'he', 'be', \"hasn't\", 'were', 'doesn', 'how', 'nor', 'doing', 'which', 'an', 'into', 'down', 'against', 'why', 'yours', 'further', 'you', \"hadn't\", 'in', \"wasn't\", \"wouldn't\", 'ain', 'if', 'can', 'i', \"that'll\", \"weren't\", 'having', \"you'll\", 'that', 'than', 'up', 'my', 'any', \"should've\", 'don', 'themselves', 'won'}\n",
      "************************************\n",
      "tasti\n"
     ]
    }
   ],
   "source": [
    "import nltk\n",
    "nltk.download('stopwords')\n",
    "import re\n",
    "# Tutorial about Python regular expressions: https://pymotw.com/2/re/\n",
    "import string\n",
    "from nltk.corpus import stopwords\n",
    "from nltk.stem import PorterStemmer\n",
    "from nltk.stem.wordnet import WordNetLemmatizer\n",
    "\n",
    "stop = set(stopwords.words('english')) #set of stopwords\n",
    "sno = nltk.stem.SnowballStemmer('english') #initialising the snowball stemmer\n",
    "\n",
    "def cleanhtml(sentence): #function to clean the word of any html-tags\n",
    "    cleanr = re.compile('<.*?>')\n",
    "    cleantext = re.sub(cleanr, ' ', sentence)\n",
    "    return cleantext\n",
    "def cleanpunc(sentence): #function to clean the word of any punctuation or special characters\n",
    "    cleaned = re.sub(r'[?|!|\\'|\"|#]',r'',sentence)\n",
    "    cleaned = re.sub(r'[.|,|)|(|\\|/]',r' ',cleaned)\n",
    "    return  cleaned\n",
    "print(stop)\n",
    "print('************************************')\n",
    "print(sno.stem('tasty'))"
   ]
  },
  {
   "cell_type": "markdown",
   "metadata": {},
   "source": [
    "- - -"
   ]
  },
  {
   "cell_type": "markdown",
   "metadata": {},
   "source": [
    "# Creating Word2vec model"
   ]
  },
  {
   "cell_type": "code",
   "execution_count": 0,
   "metadata": {
    "colab": {
     "autoexec": {
      "startup": false,
      "wait_interval": 0
     }
    },
    "colab_type": "code",
    "collapsed": true,
    "id": "RZQ2HuhNcB3z"
   },
   "outputs": [],
   "source": [
    "import gensim\n",
    "i=0\n",
    "train_sent=[]\n",
    "for sent in X_train:\n",
    "    filtered_sentence=[]\n",
    "    sent=cleanhtml(sent)\n",
    "    for w in sent.split():\n",
    "        for cleaned_words in cleanpunc(w).split():\n",
    "            if(cleaned_words.isalpha()):    \n",
    "                filtered_sentence.append(cleaned_words.lower())\n",
    "            else:\n",
    "                continue \n",
    "    train_sent.append(filtered_sentence)\n",
    "    "
   ]
  },
  {
   "cell_type": "code",
   "execution_count": 0,
   "metadata": {
    "colab": {
     "autoexec": {
      "startup": false,
      "wait_interval": 0
     }
    },
    "colab_type": "code",
    "collapsed": true,
    "id": "LKkA-vQvcKUo"
   },
   "outputs": [],
   "source": [
    "test_sent=[]\n",
    "for sent in X_test:\n",
    "    filtered_sentence=[]\n",
    "    sent=cleanhtml(sent)\n",
    "    for w in sent.split():\n",
    "        for cleaned_words in cleanpunc(w).split():\n",
    "            if(cleaned_words.isalpha()):    \n",
    "                filtered_sentence.append(cleaned_words.lower())\n",
    "            else:\n",
    "                continue \n",
    "    test_sent.append(filtered_sentence)"
   ]
  },
  {
   "cell_type": "code",
   "execution_count": 0,
   "metadata": {
    "colab": {
     "autoexec": {
      "startup": false,
      "wait_interval": 0
     }
    },
    "colab_type": "code",
    "collapsed": true,
    "id": "0vayGd7pcM2E"
   },
   "outputs": [],
   "source": [
    "from gensim.models import Word2Vec\n",
    "from gensim.models import KeyedVectors\n",
    "\n",
    "w2v_model = gensim.models.Word2Vec(train_sent,min_count=5,size=50, workers=4)    "
   ]
  },
  {
   "cell_type": "markdown",
   "metadata": {
    "colab": {
     "autoexec": {
      "startup": false,
      "wait_interval": 0
     }
    },
    "colab_type": "code",
    "id": "iHYnml4gclpw"
   },
   "source": [
    "- - -"
   ]
  },
  {
   "cell_type": "markdown",
   "metadata": {
    "colab_type": "text",
    "id": "etgOOHEoco3E"
   },
   "source": [
    "## Average Word2Vec"
   ]
  },
  {
   "cell_type": "code",
   "execution_count": 12,
   "metadata": {
    "colab": {
     "autoexec": {
      "startup": false,
      "wait_interval": 0
     },
     "base_uri": "https://localhost:8080/",
     "height": 51
    },
    "colab_type": "code",
    "executionInfo": {
     "elapsed": 43449,
     "status": "ok",
     "timestamp": 1530334583231,
     "user": {
      "displayName": "K V",
      "photoUrl": "https://lh3.googleusercontent.com/a/default-user=s128",
      "userId": "115566673853168956239"
     },
     "user_tz": -330
    },
    "id": "PvsNAV4ocpgl",
    "outputId": "11460fe2-648e-4d56-e720-a8693bedd320"
   },
   "outputs": [
    {
     "name": "stdout",
     "output_type": "stream",
     "text": [
      "254919\n",
      "50\n"
     ]
    }
   ],
   "source": [
    "#AVG-W2V\n",
    "sent_vectors = []; # the avg-w2v for each sentence/review is stored in this list\n",
    "for sent in train_sent: # for each review/sentence\n",
    "    sent_vec = np.zeros(50) # as word vectors are of zero length\n",
    "    cnt_words =0; # num of words with a valid vector in the sentence/review\n",
    "    for word in sent: # for each word in a review/sentence\n",
    "        try:\n",
    "            vec = w2v_model.wv[word]\n",
    "            sent_vec += vec\n",
    "            cnt_words += 1\n",
    "        except:\n",
    "            cnt_words = 1\n",
    "            pass\n",
    "    sent_vec /= cnt_words\n",
    "    sent_vectors.append(sent_vec)\n",
    "print(len(sent_vectors))\n",
    "print(len(sent_vectors[0]))"
   ]
  },
  {
   "cell_type": "code",
   "execution_count": 13,
   "metadata": {
    "colab": {
     "autoexec": {
      "startup": false,
      "wait_interval": 0
     },
     "base_uri": "https://localhost:8080/",
     "height": 51
    },
    "colab_type": "code",
    "executionInfo": {
     "elapsed": 20601,
     "status": "ok",
     "timestamp": 1530334604052,
     "user": {
      "displayName": "K V",
      "photoUrl": "https://lh3.googleusercontent.com/a/default-user=s128",
      "userId": "115566673853168956239"
     },
     "user_tz": -330
    },
    "id": "6yfTX5_zc5T8",
    "outputId": "079faf55-f2d9-4472-d5e2-c68c6e7f4b91"
   },
   "outputs": [
    {
     "name": "stdout",
     "output_type": "stream",
     "text": [
      "109252\n",
      "50\n"
     ]
    }
   ],
   "source": [
    "sent_vectors2 = []; # the avg-w2v for each sentence/review is stored in this list\n",
    "for sent in test_sent: # for each review/sentence\n",
    "    sent_vec = np.zeros(50) # as word vectors are of zero length\n",
    "    cnt_words =0; # num of words with a valid vector in the sentence/review\n",
    "    for word in sent: # for each word in a review/sentence\n",
    "        try:\n",
    "            vec = w2v_model.wv[word]\n",
    "            sent_vec += vec\n",
    "            cnt_words += 1\n",
    "        except:\n",
    "            cnt_words = 1\n",
    "            pass\n",
    "    sent_vec /= cnt_words\n",
    "    sent_vectors2.append(sent_vec)\n",
    "print(len(sent_vectors2))\n",
    "print(len(sent_vectors2[0]))"
   ]
  },
  {
   "cell_type": "code",
   "execution_count": 0,
   "metadata": {
    "colab": {
     "autoexec": {
      "startup": false,
      "wait_interval": 0
     }
    },
    "colab_type": "code",
    "collapsed": true,
    "id": "WeCpo5YTepiB"
   },
   "outputs": [],
   "source": [
    "X_train1 = sent_vectors\n",
    "X_test1 = sent_vectors2"
   ]
  },
  {
   "cell_type": "markdown",
   "metadata": {},
   "source": [
    "# Applying DecisionTree Classifier"
   ]
  },
  {
   "cell_type": "code",
   "execution_count": 17,
   "metadata": {
    "colab": {
     "autoexec": {
      "startup": false,
      "wait_interval": 0
     },
     "base_uri": "https://localhost:8080/",
     "height": 395
    },
    "colab_type": "code",
    "executionInfo": {
     "elapsed": 521068,
     "status": "ok",
     "timestamp": 1530335220879,
     "user": {
      "displayName": "K V",
      "photoUrl": "https://lh3.googleusercontent.com/a/default-user=s128",
      "userId": "115566673853168956239"
     },
     "user_tz": -330
    },
    "id": "P-LjQrkyc_G6",
    "outputId": "fdf27009-e788-4465-993d-2bcc5e36056f"
   },
   "outputs": [
    {
     "name": "stdout",
     "output_type": "stream",
     "text": [
      "\n",
      "The optimal depth of the tree is 8.\n"
     ]
    },
    {
     "data": {
      "image/png": "[encoded data removed]",
      "text/plain": [
       "<matplotlib.figure.Figure at 0x7f7c03ff4d68>"
      ]
     },
     "metadata": {
      "tags": []
     },
     "output_type": "display_data"
    }
   ],
   "source": [
    "from sklearn.tree import DecisionTreeClassifier\n",
    "\n",
    "\n",
    "depth = list(range(2,10))\n",
    "\n",
    "\n",
    "# empty list that will hold cv scores\n",
    "cv_scores = []\n",
    "my_cv = [(train,test) for train, test in TimeSeriesSplit(n_splits=10).split(X_train1)]\n",
    "# perform 10-fold cross validation\n",
    "for d in depth:\n",
    "    dt = DecisionTreeClassifier(max_depth = d, min_samples_split = 1000, min_samples_leaf = 500)\n",
    "    scores = cross_val_score(dt, X_train1, y_train, cv = my_cv, scoring='accuracy')\n",
    "    cv_scores.append(scores.mean())\n",
    "    \n",
    "    \n",
    "# changing to misclassification error\n",
    "MSE = [1 - x for x in cv_scores]\n",
    "\n",
    "# determining best k\n",
    "optimal_d = depth[MSE.index(min(MSE))]\n",
    "print('\\nThe optimal depth of the tree is %d.' % optimal_d)\n",
    "\n",
    "# plot misclassification error vs k \n",
    "plt.plot(depth, MSE)\n",
    "\n",
    "for xy in zip(depth, np.round(MSE,3)):\n",
    "    plt.annotate('(%s, %s)' % xy, xy=xy, textcoords='data')\n",
    "\n",
    "plt.xlabel('Tree depth')\n",
    "plt.ylabel('Misclassification Error')\n",
    "plt.show()"
   ]
  },
  {
   "cell_type": "code",
   "execution_count": 18,
   "metadata": {
    "colab": {
     "autoexec": {
      "startup": false,
      "wait_interval": 0
     },
     "base_uri": "https://localhost:8080/",
     "height": 85
    },
    "colab_type": "code",
    "executionInfo": {
     "elapsed": 24722,
     "status": "ok",
     "timestamp": 1530335870050,
     "user": {
      "displayName": "K V",
      "photoUrl": "https://lh3.googleusercontent.com/a/default-user=s128",
      "userId": "115566673853168956239"
     },
     "user_tz": -330
    },
    "id": "_yomKY3If6gp",
    "outputId": "6bad26fe-02d7-41de-874c-b3e6395f820b"
   },
   "outputs": [
    {
     "name": "stdout",
     "output_type": "stream",
     "text": [
      "\n",
      "****Train accuracy for k = 8 is 87.32\n",
      "\n",
      "****Test accuracy for k = 8 is 85.31\n"
     ]
    }
   ],
   "source": [
    "\n",
    "\n",
    "dt = DecisionTreeClassifier(max_depth = 8, min_samples_split = 1000, min_samples_leaf = 500)\n",
    "dt.fit(X_train1,y_train)\n",
    "pred = dt.predict(X_test1)\n",
    "\n",
    "acc = accuracy_score(y_test, pred, normalize=True) * float(100)\n",
    "x = dt.predict(X_train1)\n",
    "tr_acc = accuracy_score(y_train, x, normalize=True) * float(100)\n",
    "print('\\n****Train accuracy for k = {} is {:.2f}'.format(8,tr_acc))\n",
    "print('\\n****Test accuracy for k = {} is {:.2f}'.format(8,acc))"
   ]
  },
  {
   "cell_type": "markdown",
   "metadata": {},
   "source": [
    "- - - "
   ]
  },
  {
   "cell_type": "markdown",
   "metadata": {
    "colab_type": "text",
    "id": "dahZym4qkbAz"
   },
   "source": [
    "# Word2Vec-Tfidf\n",
    "\n",
    "### Note : Performed with sampled 50k datapoints"
   ]
  },
  {
   "cell_type": "code",
   "execution_count": 12,
   "metadata": {
    "colab": {
     "autoexec": {
      "startup": false,
      "wait_interval": 0
     },
     "base_uri": "https://localhost:8080/",
     "height": 51
    },
    "colab_type": "code",
    "executionInfo": {
     "elapsed": 406874,
     "status": "ok",
     "timestamp": 1530337774365,
     "user": {
      "displayName": "K V",
      "photoUrl": "https://lh3.googleusercontent.com/a/default-user=s128",
      "userId": "115566673853168956239"
     },
     "user_tz": -330
    },
    "id": "-dNejSNvkcYJ",
    "outputId": "4c6b2946-faab-4da2-d3ea-5f44aa4e1ceb"
   },
   "outputs": [
    {
     "name": "stdout",
     "output_type": "stream",
     "text": [
      "35000\n",
      "50\n"
     ]
    }
   ],
   "source": [
    "from sklearn.feature_extraction.text import TfidfTransformer\n",
    "from sklearn.feature_extraction.text import TfidfVectorizer\n",
    "\n",
    "\n",
    "tf_idf_vect = TfidfVectorizer()\n",
    "final_tf_idf = tf_idf_vect.fit_transform(X_train)\n",
    "tfidf_feat = tf_idf_vect.get_feature_names()\n",
    " # tfidf words/col-names\n",
    "# final_tf_idf is the sparse matrix with row= sentence, col=word and cell_val = tfidf\n",
    "\n",
    "train_vectors = []; # the tfidf-w2v for each sentence/review is stored in this list\n",
    "row=0;\n",
    "for sent in train_sent: # for each review/sentence\n",
    "    sent_vec = np.zeros(50) # as word vectors are of zero length\n",
    "    weight_sum = 0; # num of words with a valid vector in the sentence/review\n",
    "    for word in sent: # for each word in a review/sentence\n",
    "        try:\n",
    "            vec = w2v_model.wv[word]\n",
    "            # obtain the tf_idf of a word in a sentence/review\n",
    "            tfidf = final_tf_idf[row, tfidf_feat.index(word)]\n",
    "            sent_vec += (vec * tfidf)\n",
    "            weight_sum += tfidf\n",
    "            \n",
    "            \n",
    "        except:\n",
    "            weight_sum = 1\n",
    "            pass\n",
    "\n",
    "    sent_vec /= weight_sum\n",
    "    #print(np.isnan(np.sum(sent_vec)))\n",
    "\n",
    "    train_vectors.append(sent_vec)\n",
    "    row += 1\n",
    "print(len(train_vectors))\n",
    "print(len(train_vectors[0]))"
   ]
  },
  {
   "cell_type": "code",
   "execution_count": 13,
   "metadata": {
    "colab": {
     "autoexec": {
      "startup": false,
      "wait_interval": 0
     },
     "base_uri": "https://localhost:8080/",
     "height": 51
    },
    "colab_type": "code",
    "executionInfo": {
     "elapsed": 2146,
     "status": "ok",
     "timestamp": 1530337796263,
     "user": {
      "displayName": "K V",
      "photoUrl": "https://lh3.googleusercontent.com/a/default-user=s128",
      "userId": "115566673853168956239"
     },
     "user_tz": -330
    },
    "id": "9bBbSIpAkg0C",
    "outputId": "047fdf3d-0a86-475d-9499-9cbed473835b"
   },
   "outputs": [
    {
     "name": "stdout",
     "output_type": "stream",
     "text": [
      "15000\n",
      "50\n"
     ]
    }
   ],
   "source": [
    "\n",
    "final_tf_idf = tf_idf_vect.fit_transform(X_test)\n",
    "tfidf_feat = tf_idf_vect.get_feature_names()\n",
    " # tfidf words/col-names\n",
    "# final_tf_idf is the sparse matrix with row= sentence, col=word and cell_val = tfidf\n",
    "\n",
    "test_vectors = []; # the tfidf-w2v for each sentence/review is stored in this list\n",
    "row=0;\n",
    "for sent in test_sent: # for each review/sentence\n",
    "    sent_vec = np.zeros(50) # as word vectors are of zero length\n",
    "    weight_sum = 0; # num of words with a valid vector in the sentence/review\n",
    "    for word in sent: # for each word in a review/sentence\n",
    "        try:\n",
    "            vec = w2v_model2.wv[word]\n",
    "            # obtain the tf_idf of a word in a sentence/review\n",
    "            tfidf = final_tf_idf[row, tfidf_feat.index(word)]\n",
    "            sent_vec += (vec * tfidf)\n",
    "            weight_sum += tfidf\n",
    "            \n",
    "            \n",
    "        except:\n",
    "            weight_sum = 1\n",
    "            pass\n",
    "\n",
    "    sent_vec /= weight_sum\n",
    "    #print(np.isnan(np.sum(sent_vec)))\n",
    "\n",
    "    test_vectors.append(sent_vec)\n",
    "    row += 1\n",
    "print(len(test_vectors))\n",
    "print(len(test_vectors[0]))"
   ]
  },
  {
   "cell_type": "code",
   "execution_count": 0,
   "metadata": {
    "colab": {
     "autoexec": {
      "startup": false,
      "wait_interval": 0
     }
    },
    "colab_type": "code",
    "collapsed": true,
    "id": "eNNScMTJljYU"
   },
   "outputs": [],
   "source": [
    "X_train2 = train_vectors\n",
    "X_test2 = test_vectors"
   ]
  },
  {
   "cell_type": "markdown",
   "metadata": {},
   "source": [
    "# Applying DecisionTree Classifier"
   ]
  },
  {
   "cell_type": "code",
   "execution_count": 15,
   "metadata": {
    "colab": {
     "autoexec": {
      "startup": false,
      "wait_interval": 0
     },
     "base_uri": "https://localhost:8080/",
     "height": 395
    },
    "colab_type": "code",
    "executionInfo": {
     "elapsed": 85745,
     "status": "ok",
     "timestamp": 1530337942254,
     "user": {
      "displayName": "K V",
      "photoUrl": "https://lh3.googleusercontent.com/a/default-user=s128",
      "userId": "115566673853168956239"
     },
     "user_tz": -330
    },
    "id": "KLnCBu9hl3gj",
    "outputId": "b7eef456-dbd6-4f9b-c1b8-05be9e3dabad"
   },
   "outputs": [
    {
     "name": "stdout",
     "output_type": "stream",
     "text": [
      "\n",
      "The optimal depth of the tree is 6.\n"
     ]
    },
    {
     "data": {
      "image/png": "[encoded data removed]",
      "text/plain": [
       "<matplotlib.figure.Figure at 0x7f93843e0710>"
      ]
     },
     "metadata": {
      "tags": []
     },
     "output_type": "display_data"
    }
   ],
   "source": [
    "from sklearn.tree import DecisionTreeClassifier\n",
    "\n",
    "\n",
    "depth = list(range(2,15))\n",
    "\n",
    "# empty list that will hold cv scores\n",
    "cv_scores = []\n",
    "my_cv = [(train,test) for train, test in TimeSeriesSplit(n_splits=10).split(X_train2)]\n",
    "# perform 10-fold cross validation\n",
    "for d in depth:\n",
    "    dt = DecisionTreeClassifier(max_depth = d, min_samples_split = 500, min_samples_leaf = 100)\n",
    "    scores = cross_val_score(dt, X_train2, y_train, cv = my_cv, scoring='accuracy')\n",
    "    cv_scores.append(scores.mean())\n",
    "    \n",
    "    \n",
    "# changing to misclassification error\n",
    "MSE = [1 - x for x in cv_scores]\n",
    "\n",
    "# determining best k\n",
    "optimal_d = depth[MSE.index(min(MSE))]\n",
    "print('\\nThe optimal depth of the tree is %d.' % optimal_d)\n",
    "\n",
    "# plot misclassification error vs k \n",
    "plt.plot(depth, MSE)\n",
    "\n",
    "for xy in zip(depth, np.round(MSE,3)):\n",
    "    plt.annotate('(%s, %s)' % xy, xy=xy, textcoords='data')\n",
    "\n",
    "plt.xlabel('Tree depth')\n",
    "plt.ylabel('Misclassification Error')\n",
    "plt.show()"
   ]
  },
  {
   "cell_type": "code",
   "execution_count": 17,
   "metadata": {
    "colab": {
     "autoexec": {
      "startup": false,
      "wait_interval": 0
     },
     "base_uri": "https://localhost:8080/",
     "height": 85
    },
    "colab_type": "code",
    "executionInfo": {
     "elapsed": 2365,
     "status": "ok",
     "timestamp": 1530338043571,
     "user": {
      "displayName": "K V",
      "photoUrl": "https://lh3.googleusercontent.com/a/default-user=s128",
      "userId": "115566673853168956239"
     },
     "user_tz": -330
    },
    "id": "2q6DXjYQl9cv",
    "outputId": "ad144308-c575-4564-d541-e4bcacb76c08"
   },
   "outputs": [
    {
     "name": "stdout",
     "output_type": "stream",
     "text": [
      "\n",
      "****Train accuracy for k = 6 is 86.09\n",
      "\n",
      "****Test accuracy for k = 6 is 83.13\n"
     ]
    }
   ],
   "source": [
    "\n",
    "dt = DecisionTreeClassifier(max_depth = 6, min_samples_split = 500, min_samples_leaf = 100)\n",
    "dt.fit(X_train2,y_train)\n",
    "pred = dt.predict(X_test2)\n",
    "\n",
    "acc = accuracy_score(y_test, pred, normalize=True) * float(100)\n",
    "x = dt.predict(X_train2)\n",
    "tr_acc = accuracy_score(y_train, x, normalize=True) * float(100)\n",
    "print('\\n****Train accuracy for k = {} is {:.2f}'.format(6,tr_acc))\n",
    "print('\\n****Test accuracy for k = {} is {:.2f}'.format(6,acc))"
   ]
  },
  {
   "cell_type": "markdown",
   "metadata": {
    "colab_type": "text",
    "id": "wK70Z-KXRZsU"
   },
   "source": [
    "- - - "
   ]
  },
  {
   "cell_type": "markdown",
   "metadata": {
    "colab_type": "text",
    "id": "hnCywnlWRb4z"
   },
   "source": [
    "# Conclusion"
   ]
  },
  {
   "cell_type": "markdown",
   "metadata": {
    "colab_type": "text",
    "id": "6JSyRrTkRfWl"
   },
   "source": [
    "\n",
    "- ### Average word2vec gives a training accuracy of 87.3 % and testing accuracy of 85.3 % with best depth of tree being '8'.\n",
    "\n",
    "- ### Tf-idf word2vec gives a training accuracy of 86 % and testing accuracy of 83.1 % with best depth of tree being '6'.\n",
    "\n"
   ]
  },
  {
   "cell_type": "code",
   "execution_count": 0,
   "metadata": {
    "colab": {
     "autoexec": {
      "startup": false,
      "wait_interval": 0
     }
    },
    "colab_type": "code",
    "collapsed": true,
    "id": "wpl5yHYIScog"
   },
   "outputs": [],
   "source": []
  }
 ],
 "metadata": {
  "accelerator": "GPU",
  "colab": {
   "collapsed_sections": [],
   "default_view": {},
   "name": "Untitled10.ipynb",
   "provenance": [],
   "version": "0.3.2",
   "views": {}
  },
  "kernelspec": {
   "display_name": "Python 3",
   "language": "python",
   "name": "python3"
  },
  "language_info": {
   "codemirror_mode": {
    "name": "ipython",
    "version": 3
   },
   "file_extension": ".py",
   "mimetype": "text/x-python",
   "name": "python",
   "nbconvert_exporter": "python",
   "pygments_lexer": "ipython3",
   "version": "3.6.3"
  }
 },
 "nbformat": 4,
 "nbformat_minor": 1
}
